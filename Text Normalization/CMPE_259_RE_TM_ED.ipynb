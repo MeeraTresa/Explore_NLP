{
  "cells": [
    {
      "cell_type": "markdown",
      "id": "eGajpTvZbl8W",
      "metadata": {
        "id": "eGajpTvZbl8W"
      },
      "source": [
        "# CMPE 297: Homework 1: Regular expressions, text normalization, and edit distance\n",
        "\n",
        "The parts that you need to complete are marked as Exercises."
      ]
    },
    {
      "cell_type": "markdown",
      "id": "lkzAo9kSbpaa",
      "metadata": {
        "id": "lkzAo9kSbpaa"
      },
      "source": [
        "## Part 0: Initialization & Setup"
      ]
    },
    {
      "cell_type": "code",
      "execution_count": null,
      "id": "d56c92a0",
      "metadata": {
        "id": "d56c92a0",
        "colab": {
          "base_uri": "https://localhost:8080/"
        },
        "outputId": "fec96c1f-a63e-4e7f-8e42-c618149b8cb5"
      },
      "outputs": [
        {
          "output_type": "stream",
          "name": "stderr",
          "text": [
            "[nltk_data] Downloading package movie_reviews to /root/nltk_data...\n",
            "[nltk_data]   Unzipping corpora/movie_reviews.zip.\n",
            "[nltk_data] Downloading package stopwords to /root/nltk_data...\n",
            "[nltk_data]   Unzipping corpora/stopwords.zip.\n",
            "[nltk_data] Downloading package wordnet to /root/nltk_data...\n"
          ]
        },
        {
          "output_type": "execute_result",
          "data": {
            "text/plain": [
              "True"
            ]
          },
          "metadata": {},
          "execution_count": 1
        }
      ],
      "source": [
        "# importing required libraries\n",
        "import re\n",
        "import nltk\n",
        "from nltk.corpus import movie_reviews\n",
        "import string\n",
        "import pandas as pd\n",
        "from nltk.corpus import stopwords\n",
        "\n",
        "nltk.download('movie_reviews')\n",
        "nltk.download('stopwords')\n",
        "nltk.download('wordnet')"
      ]
    },
    {
      "cell_type": "markdown",
      "id": "2jEV5pB3bhkq",
      "metadata": {
        "id": "2jEV5pB3bhkq"
      },
      "source": [
        "## Part 1: Regular Expressions"
      ]
    },
    {
      "cell_type": "markdown",
      "id": "oLP8HLkcbvcG",
      "metadata": {
        "id": "oLP8HLkcbvcG"
      },
      "source": [
        "### Extracting license plate numbers, IDs, emails and mailing addresses from a document\n"
      ]
    },
    {
      "cell_type": "markdown",
      "id": "xLT-yj6keZOF",
      "metadata": {
        "id": "xLT-yj6keZOF"
      },
      "source": [
        "#### Document creation"
      ]
    },
    {
      "cell_type": "code",
      "execution_count": null,
      "id": "aefa7f39",
      "metadata": {
        "id": "aefa7f39",
        "colab": {
          "base_uri": "https://localhost:8080/",
          "height": 53
        },
        "outputId": "f1a06290-b0a9-4805-faf9-ba14e5c1b9a7"
      },
      "outputs": [
        {
          "output_type": "execute_result",
          "data": {
            "text/plain": [
              "'I am 20 years old. My previous license plate number was 4XUI302 and my new one is 3A-278. My ID is J987492 and my address is 123 Main street, San Jose, CA. Please email me at myemail123+spam@google.cg or jane.doe@sjsu.edu'"
            ],
            "application/vnd.google.colaboratory.intrinsic+json": {
              "type": "string"
            }
          },
          "metadata": {},
          "execution_count": 2
        }
      ],
      "source": [
        "sentence = 'I am 20 years old. My previous license plate number was 4XUI302 and my new one is 3A-278. My ID is J987492 and my address is 123 Main street, San Jose, CA. Please email me at myemail123+spam@google.cg or jane.doe@sjsu.edu'\n",
        "sentence"
      ]
    },
    {
      "cell_type": "markdown",
      "id": "enF7P05qebea",
      "metadata": {
        "id": "enF7P05qebea"
      },
      "source": [
        "Extracting license plate numbers"
      ]
    },
    {
      "cell_type": "code",
      "execution_count": null,
      "id": "65e2f32e",
      "metadata": {
        "colab": {
          "base_uri": "https://localhost:8080/"
        },
        "id": "65e2f32e",
        "outputId": "5b9b8cbf-9c00-4e99-b647-c5f80c0555bd"
      },
      "outputs": [
        {
          "output_type": "execute_result",
          "data": {
            "text/plain": [
              "['4XUI302', '3A-278']"
            ]
          },
          "metadata": {},
          "execution_count": 3
        }
      ],
      "source": [
        "# The format of license plate number is a digit then 2 or 3 letters (one of which can be a \"-\"), and then 3 digits\n",
        "\n",
        "regex = re.compile(r'(\\d{1}[A-Za-z-]{2,3}\\d{3})')\n",
        "lincense_plate_numbers = regex.findall(sentence)\n",
        "lincense_plate_numbers"
      ]
    },
    {
      "cell_type": "markdown",
      "id": "nzg5Gxx9dzW2",
      "metadata": {
        "id": "nzg5Gxx9dzW2"
      },
      "source": [
        "### Exercise 1-1: Extract the ID numbers from the document."
      ]
    },
    {
      "cell_type": "code",
      "execution_count": null,
      "id": "d98e769f",
      "metadata": {
        "id": "d98e769f",
        "colab": {
          "base_uri": "https://localhost:8080/"
        },
        "outputId": "fada1e6a-6904-4e74-d036-40a0d0fb5624"
      },
      "outputs": [
        {
          "output_type": "execute_result",
          "data": {
            "text/plain": [
              "['J987492']"
            ]
          },
          "metadata": {},
          "execution_count": 4
        }
      ],
      "source": [
        "# The format of the IDs is one character/letter and then 6 digits\n",
        "regex = re.compile(r'([A-Za-z]{1}\\d{6})')\n",
        "ids = regex.findall(sentence)\n",
        "ids"
      ]
    },
    {
      "cell_type": "markdown",
      "id": "y3BZc47FeRzR",
      "metadata": {
        "id": "y3BZc47FeRzR"
      },
      "source": [
        "### Exercise 1-2: Extract the email IDs from the document"
      ]
    },
    {
      "cell_type": "code",
      "execution_count": null,
      "id": "11287af4",
      "metadata": {
        "id": "11287af4",
        "colab": {
          "base_uri": "https://localhost:8080/"
        },
        "outputId": "a8f7dd4e-2fa6-4768-f7bb-502ed11080bd"
      },
      "outputs": [
        {
          "output_type": "execute_result",
          "data": {
            "text/plain": [
              "['myemail123+spam@google.cg', 'jane.doe@sjsu.edu']"
            ]
          },
          "metadata": {},
          "execution_count": 5
        }
      ],
      "source": [
        "regex = re.compile(r'([a-zA-Z0-9+.]+@[a-zA-Z0-9]+\\.[a-zA-Z]+)')\n",
        "emails = regex.findall(sentence)\n",
        "emails"
      ]
    },
    {
      "cell_type": "markdown",
      "id": "UfCxo2u2erDf",
      "metadata": {
        "id": "UfCxo2u2erDf"
      },
      "source": [
        "### Exercise 1-3: Extract the mailing address from the document"
      ]
    },
    {
      "cell_type": "code",
      "execution_count": null,
      "id": "62515169",
      "metadata": {
        "id": "62515169",
        "colab": {
          "base_uri": "https://localhost:8080/"
        },
        "outputId": "c35c300c-2ef2-4de1-e7dd-ff58665401cb"
      },
      "outputs": [
        {
          "output_type": "execute_result",
          "data": {
            "text/plain": [
              "['123 Main street, San Jose, CA']"
            ]
          },
          "metadata": {},
          "execution_count": 6
        }
      ],
      "source": [
        "regex = re.compile(r'([0-9]+\\s[a-zA-Z\\s]+,[a-zA-Z\\s]+,\\s[A-Z]{2})')\n",
        "mailing_address =  regex.findall(sentence)\n",
        "mailing_address"
      ]
    },
    {
      "cell_type": "markdown",
      "id": "uM53UdvPevrA",
      "metadata": {
        "id": "uM53UdvPevrA"
      },
      "source": [
        "### Exercise 1-4: Anonymize the license plate numbers by replacing them with the text \"LP_NUM\"\n",
        "\n",
        "The re.sub function is described here: https://docs.python.org/3/library/re.html"
      ]
    },
    {
      "cell_type": "code",
      "execution_count": null,
      "id": "ca6ae08c",
      "metadata": {
        "id": "ca6ae08c",
        "colab": {
          "base_uri": "https://localhost:8080/",
          "height": 53
        },
        "outputId": "1a78b7ab-e96e-420f-f7bd-a32ef88ece3c"
      },
      "outputs": [
        {
          "output_type": "execute_result",
          "data": {
            "text/plain": [
              "'I am 20 years old. My previous license plate number was LP_NUM and my new one is LP_NUM. My ID is J987492 and my address is 123 Main street, San Jose, CA. Please email me at myemail123+spam@google.cg or jane.doe@sjsu.edu'"
            ],
            "application/vnd.google.colaboratory.intrinsic+json": {
              "type": "string"
            }
          },
          "metadata": {},
          "execution_count": 7
        }
      ],
      "source": [
        "# Now replacing license plate numbers with the string \"LP_NUM\"\n",
        "regex = re.compile(r'(\\d{1}[A-Za-z-]{2,3}\\d{3})')\n",
        "sentence_modified = re.sub(regex, \"LP_NUM\", sentence)\n",
        "sentence_modified"
      ]
    },
    {
      "cell_type": "markdown",
      "id": "rArCsPyMfAeZ",
      "metadata": {
        "id": "rArCsPyMfAeZ"
      },
      "source": [
        "### Exercise 1-5: Replace the ID numbers with the text \"ID_NUM\""
      ]
    },
    {
      "cell_type": "code",
      "execution_count": null,
      "id": "glVWmQAOfFTU",
      "metadata": {
        "id": "glVWmQAOfFTU",
        "colab": {
          "base_uri": "https://localhost:8080/",
          "height": 53
        },
        "outputId": "2cbe3864-51fc-4a35-889c-be6ee36290a6"
      },
      "outputs": [
        {
          "output_type": "execute_result",
          "data": {
            "text/plain": [
              "'I am 20 years old. My previous license plate number was LP_NUM and my new one is LP_NUM. My ID is ID_NUM and my address is 123 Main street, San Jose, CA. Please email me at myemail123+spam@google.cg or jane.doe@sjsu.edu'"
            ],
            "application/vnd.google.colaboratory.intrinsic+json": {
              "type": "string"
            }
          },
          "metadata": {},
          "execution_count": 8
        }
      ],
      "source": [
        "regex = re.compile(r'([A-Za-z]{1}\\d{6})')\n",
        "sentence_modified = re.sub(regex, \"ID_NUM\", sentence_modified)\n",
        "sentence_modified"
      ]
    },
    {
      "cell_type": "markdown",
      "id": "q2ymEa7sfHnL",
      "metadata": {
        "id": "q2ymEa7sfHnL"
      },
      "source": [
        "## Part 2: Text Processing"
      ]
    },
    {
      "cell_type": "markdown",
      "id": "F_Y77JT9fjid",
      "metadata": {
        "id": "F_Y77JT9fjid"
      },
      "source": [
        "Count the number of words in the movie_reviews dataset (dataset uploaded in the beginning of this notebook under \"Part 0: Initialization and Setup\")"
      ]
    },
    {
      "cell_type": "code",
      "execution_count": null,
      "id": "3239e17c",
      "metadata": {
        "id": "3239e17c",
        "colab": {
          "base_uri": "https://localhost:8080/"
        },
        "outputId": "de2b05d4-a478-4850-ed46-336bd03b14aa"
      },
      "outputs": [
        {
          "output_type": "execute_result",
          "data": {
            "text/plain": [
              "1583820"
            ]
          },
          "metadata": {},
          "execution_count": 9
        }
      ],
      "source": [
        "# print number of words in the movie review dataset\n",
        "len(movie_reviews.words())"
      ]
    },
    {
      "cell_type": "markdown",
      "id": "86nbNEYwfgwl",
      "metadata": {
        "id": "86nbNEYwfgwl"
      },
      "source": [
        "Load the standard list of punctuation marks"
      ]
    },
    {
      "cell_type": "code",
      "execution_count": null,
      "id": "0929c795",
      "metadata": {
        "id": "0929c795",
        "colab": {
          "base_uri": "https://localhost:8080/",
          "height": 36
        },
        "outputId": "812c678f-fbb8-4556-e8ce-d9718c8ebf53"
      },
      "outputs": [
        {
          "output_type": "execute_result",
          "data": {
            "text/plain": [
              "'!\"#$%&\\'()*+,-./:;<=>?@[\\\\]^_`{|}~'"
            ],
            "application/vnd.google.colaboratory.intrinsic+json": {
              "type": "string"
            }
          },
          "metadata": {},
          "execution_count": 10
        }
      ],
      "source": [
        "punctuations = string.punctuation\n",
        "punctuations"
      ]
    },
    {
      "cell_type": "markdown",
      "id": "sg5Sc7X9fbpg",
      "metadata": {
        "id": "sg5Sc7X9fbpg"
      },
      "source": [
        "Remove punctation from movie reviews\n"
      ]
    },
    {
      "cell_type": "code",
      "execution_count": null,
      "id": "18760b2a",
      "metadata": {
        "id": "18760b2a",
        "colab": {
          "base_uri": "https://localhost:8080/"
        },
        "outputId": "179169e2-b671-4253-f0eb-f03c9e71f3e4"
      },
      "outputs": [
        {
          "output_type": "execute_result",
          "data": {
            "text/plain": [
              "1338788"
            ]
          },
          "metadata": {},
          "execution_count": 11
        }
      ],
      "source": [
        "words_wo_puncts = [x for x in movie_reviews.words() if x not in punctuations]\n",
        "len(words_wo_puncts)"
      ]
    },
    {
      "cell_type": "markdown",
      "id": "Gvl4C9l8f0M-",
      "metadata": {
        "id": "Gvl4C9l8f0M-"
      },
      "source": [
        "Count the number of unique words"
      ]
    },
    {
      "cell_type": "code",
      "execution_count": null,
      "id": "0a18f452",
      "metadata": {
        "id": "0a18f452",
        "colab": {
          "base_uri": "https://localhost:8080/"
        },
        "outputId": "b4e5f365-8073-44d9-d2c6-cb6eb41895ad"
      },
      "outputs": [
        {
          "output_type": "execute_result",
          "data": {
            "text/plain": [
              "39737"
            ]
          },
          "metadata": {},
          "execution_count": 12
        }
      ],
      "source": [
        "unique_words = set(words_wo_puncts)\n",
        "len(unique_words)"
      ]
    },
    {
      "cell_type": "markdown",
      "id": "D2L7yKz3gL-h",
      "metadata": {
        "id": "D2L7yKz3gL-h"
      },
      "source": [
        "Find the 20 most frequent words in the dataset"
      ]
    },
    {
      "cell_type": "code",
      "execution_count": null,
      "id": "784d9a68",
      "metadata": {
        "id": "784d9a68",
        "colab": {
          "base_uri": "https://localhost:8080/"
        },
        "outputId": "fd63a08f-5279-4205-9262-6bee6dc828d7"
      },
      "outputs": [
        {
          "output_type": "execute_result",
          "data": {
            "text/plain": [
              "the     76529\n",
              "a       38106\n",
              "and     35576\n",
              "of      34123\n",
              "to      31937\n",
              "is      25195\n",
              "in      21822\n",
              "s       18513\n",
              "it      16107\n",
              "that    15924\n",
              "as      11378\n",
              "with    10792\n",
              "for      9961\n",
              "his      9587\n",
              "this     9578\n",
              "film     9517\n",
              "i        8889\n",
              "he       8864\n",
              "but      8634\n",
              "on       7385\n",
              "dtype: int64"
            ]
          },
          "metadata": {},
          "execution_count": 13
        }
      ],
      "source": [
        "# top 20 highest freq words\n",
        "pd.Series(words_wo_puncts).value_counts()[:20]"
      ]
    },
    {
      "cell_type": "markdown",
      "id": "id9YqucXf6oW",
      "metadata": {
        "id": "id9YqucXf6oW"
      },
      "source": [
        "Load the standard list of stopwords"
      ]
    },
    {
      "cell_type": "code",
      "execution_count": null,
      "id": "9de2e57e",
      "metadata": {
        "id": "9de2e57e",
        "colab": {
          "base_uri": "https://localhost:8080/"
        },
        "outputId": "c1287c77-f5cf-4515-8478-fa5a11db40ad"
      },
      "outputs": [
        {
          "output_type": "execute_result",
          "data": {
            "text/plain": [
              "['i',\n",
              " 'me',\n",
              " 'my',\n",
              " 'myself',\n",
              " 'we',\n",
              " 'our',\n",
              " 'ours',\n",
              " 'ourselves',\n",
              " 'you',\n",
              " \"you're\",\n",
              " \"you've\",\n",
              " \"you'll\",\n",
              " \"you'd\",\n",
              " 'your',\n",
              " 'yours',\n",
              " 'yourself',\n",
              " 'yourselves',\n",
              " 'he',\n",
              " 'him',\n",
              " 'his',\n",
              " 'himself',\n",
              " 'she',\n",
              " \"she's\",\n",
              " 'her',\n",
              " 'hers',\n",
              " 'herself',\n",
              " 'it',\n",
              " \"it's\",\n",
              " 'its',\n",
              " 'itself',\n",
              " 'they',\n",
              " 'them',\n",
              " 'their',\n",
              " 'theirs',\n",
              " 'themselves',\n",
              " 'what',\n",
              " 'which',\n",
              " 'who',\n",
              " 'whom',\n",
              " 'this',\n",
              " 'that',\n",
              " \"that'll\",\n",
              " 'these',\n",
              " 'those',\n",
              " 'am',\n",
              " 'is',\n",
              " 'are',\n",
              " 'was',\n",
              " 'were',\n",
              " 'be',\n",
              " 'been',\n",
              " 'being',\n",
              " 'have',\n",
              " 'has',\n",
              " 'had',\n",
              " 'having',\n",
              " 'do',\n",
              " 'does',\n",
              " 'did',\n",
              " 'doing',\n",
              " 'a',\n",
              " 'an',\n",
              " 'the',\n",
              " 'and',\n",
              " 'but',\n",
              " 'if',\n",
              " 'or',\n",
              " 'because',\n",
              " 'as',\n",
              " 'until',\n",
              " 'while',\n",
              " 'of',\n",
              " 'at',\n",
              " 'by',\n",
              " 'for',\n",
              " 'with',\n",
              " 'about',\n",
              " 'against',\n",
              " 'between',\n",
              " 'into',\n",
              " 'through',\n",
              " 'during',\n",
              " 'before',\n",
              " 'after',\n",
              " 'above',\n",
              " 'below',\n",
              " 'to',\n",
              " 'from',\n",
              " 'up',\n",
              " 'down',\n",
              " 'in',\n",
              " 'out',\n",
              " 'on',\n",
              " 'off',\n",
              " 'over',\n",
              " 'under',\n",
              " 'again',\n",
              " 'further',\n",
              " 'then',\n",
              " 'once',\n",
              " 'here',\n",
              " 'there',\n",
              " 'when',\n",
              " 'where',\n",
              " 'why',\n",
              " 'how',\n",
              " 'all',\n",
              " 'any',\n",
              " 'both',\n",
              " 'each',\n",
              " 'few',\n",
              " 'more',\n",
              " 'most',\n",
              " 'other',\n",
              " 'some',\n",
              " 'such',\n",
              " 'no',\n",
              " 'nor',\n",
              " 'not',\n",
              " 'only',\n",
              " 'own',\n",
              " 'same',\n",
              " 'so',\n",
              " 'than',\n",
              " 'too',\n",
              " 'very',\n",
              " 's',\n",
              " 't',\n",
              " 'can',\n",
              " 'will',\n",
              " 'just',\n",
              " 'don',\n",
              " \"don't\",\n",
              " 'should',\n",
              " \"should've\",\n",
              " 'now',\n",
              " 'd',\n",
              " 'll',\n",
              " 'm',\n",
              " 'o',\n",
              " 're',\n",
              " 've',\n",
              " 'y',\n",
              " 'ain',\n",
              " 'aren',\n",
              " \"aren't\",\n",
              " 'couldn',\n",
              " \"couldn't\",\n",
              " 'didn',\n",
              " \"didn't\",\n",
              " 'doesn',\n",
              " \"doesn't\",\n",
              " 'hadn',\n",
              " \"hadn't\",\n",
              " 'hasn',\n",
              " \"hasn't\",\n",
              " 'haven',\n",
              " \"haven't\",\n",
              " 'isn',\n",
              " \"isn't\",\n",
              " 'ma',\n",
              " 'mightn',\n",
              " \"mightn't\",\n",
              " 'mustn',\n",
              " \"mustn't\",\n",
              " 'needn',\n",
              " \"needn't\",\n",
              " 'shan',\n",
              " \"shan't\",\n",
              " 'shouldn',\n",
              " \"shouldn't\",\n",
              " 'wasn',\n",
              " \"wasn't\",\n",
              " 'weren',\n",
              " \"weren't\",\n",
              " 'won',\n",
              " \"won't\",\n",
              " 'wouldn',\n",
              " \"wouldn't\"]"
            ]
          },
          "metadata": {},
          "execution_count": 14
        }
      ],
      "source": [
        "# getting english stopwords\n",
        "eng_stopwords = stopwords.words('english')\n",
        "eng_stopwords"
      ]
    },
    {
      "cell_type": "markdown",
      "id": "cL-RrEeCgA0Z",
      "metadata": {
        "id": "cL-RrEeCgA0Z"
      },
      "source": [
        "Count the number of stopwords"
      ]
    },
    {
      "cell_type": "code",
      "execution_count": null,
      "id": "d6645fe0",
      "metadata": {
        "id": "d6645fe0",
        "colab": {
          "base_uri": "https://localhost:8080/"
        },
        "outputId": "2e56e098-a944-467e-c0c9-433f23d1a52b"
      },
      "outputs": [
        {
          "output_type": "execute_result",
          "data": {
            "text/plain": [
              "179"
            ]
          },
          "metadata": {},
          "execution_count": 15
        }
      ],
      "source": [
        "len(eng_stopwords)"
      ]
    },
    {
      "cell_type": "markdown",
      "id": "xBAO2VeWgDiM",
      "metadata": {
        "id": "xBAO2VeWgDiM"
      },
      "source": [
        "### Exercise 2-1: Remove the stopwords from the dataset (similarly to how we removed punctuation above)"
      ]
    },
    {
      "cell_type": "code",
      "execution_count": null,
      "id": "9d584a6f",
      "metadata": {
        "id": "9d584a6f",
        "colab": {
          "base_uri": "https://localhost:8080/"
        },
        "outputId": "cbd03fab-0fd5-4c28-864b-d944c5d7cfbb"
      },
      "outputs": [
        {
          "output_type": "execute_result",
          "data": {
            "text/plain": [
              "710578"
            ]
          },
          "metadata": {},
          "execution_count": 16
        }
      ],
      "source": [
        "words_wo_puncts_stopwords = [x for x in words_wo_puncts if x not in eng_stopwords]\n",
        "len(words_wo_puncts_stopwords)"
      ]
    },
    {
      "cell_type": "markdown",
      "id": "RuUty50kgS2o",
      "metadata": {
        "id": "RuUty50kgS2o"
      },
      "source": [
        "### Exercise 2-2: Find the number of uniques words in the dataset now that the stop words have been removed"
      ]
    },
    {
      "cell_type": "code",
      "execution_count": null,
      "id": "a92f5eb5",
      "metadata": {
        "id": "a92f5eb5",
        "colab": {
          "base_uri": "https://localhost:8080/"
        },
        "outputId": "08ee07fb-1d2c-4e8e-9232-17325c850c7b"
      },
      "outputs": [
        {
          "output_type": "execute_result",
          "data": {
            "text/plain": [
              "39586"
            ]
          },
          "metadata": {},
          "execution_count": 17
        }
      ],
      "source": [
        "# unique words without stopwords\n",
        "unique_words = set(words_wo_puncts_stopwords)\n",
        "len(unique_words)"
      ]
    },
    {
      "cell_type": "markdown",
      "id": "bxDxQWNegcny",
      "metadata": {
        "id": "bxDxQWNegcny"
      },
      "source": [
        "### Exercise 2-3: Find the top 20 highest frequency words now that we have removed the stopwords"
      ]
    },
    {
      "cell_type": "code",
      "execution_count": null,
      "id": "840dded3",
      "metadata": {
        "id": "840dded3",
        "colab": {
          "base_uri": "https://localhost:8080/"
        },
        "outputId": "12fbcc3d-0b88-43c7-f961-1776e1aa5ffb"
      },
      "outputs": [
        {
          "output_type": "execute_result",
          "data": {
            "text/plain": [
              "film          9517\n",
              "one           5852\n",
              "movie         5771\n",
              "like          3690\n",
              "even          2565\n",
              "time          2411\n",
              "good          2411\n",
              "story         2169\n",
              "would         2109\n",
              "much          2049\n",
              "character     2020\n",
              "also          1967\n",
              "get           1949\n",
              "two           1911\n",
              "well          1906\n",
              "characters    1859\n",
              "first         1836\n",
              "--            1815\n",
              "see           1749\n",
              "way           1693\n",
              "dtype: int64"
            ]
          },
          "metadata": {},
          "execution_count": 18
        }
      ],
      "source": [
        "# top 20 highest freq words after removing stopwords\n",
        "pd.Series(words_wo_puncts_stopwords).value_counts()[:20]\n",
        "\n"
      ]
    },
    {
      "cell_type": "markdown",
      "id": "9Z36G7BcgmDF",
      "metadata": {
        "id": "9Z36G7BcgmDF"
      },
      "source": [
        "Find the words that are used only once in the corpus (and print the first few).  "
      ]
    },
    {
      "cell_type": "code",
      "execution_count": null,
      "id": "70748ea0",
      "metadata": {
        "id": "70748ea0",
        "colab": {
          "base_uri": "https://localhost:8080/"
        },
        "outputId": "ffb3bcd7-e622-4e09-cc90-6367cc0742ff"
      },
      "outputs": [
        {
          "output_type": "execute_result",
          "data": {
            "text/plain": [
              "['looooot',\n",
              " 'schnazzy',\n",
              " 'timex',\n",
              " 'indiglo',\n",
              " 'jessalyn',\n",
              " 'gilsig',\n",
              " 'ruber',\n",
              " 'jaleel',\n",
              " 'balki',\n",
              " 'wavers',\n",
              " 'statistics',\n",
              " 'snapshot',\n",
              " 'guesswork',\n",
              " 'maryam',\n",
              " 'daylights',\n",
              " 'terraformed',\n",
              " 'stagnated',\n",
              " 'napolean',\n",
              " 'millimeter',\n",
              " 'enmeshed']"
            ]
          },
          "metadata": {},
          "execution_count": 19
        }
      ],
      "source": [
        "# 20 words that are used only once in corpus using hapaxes() function\n",
        "nltk.FreqDist(words_wo_puncts_stopwords).hapaxes()[:20]"
      ]
    },
    {
      "cell_type": "markdown",
      "id": "US3mRSQ8bDei",
      "metadata": {
        "id": "US3mRSQ8bDei"
      },
      "source": [
        "### Exercise 2-4: Use the PorterStemmer to stem the words in the dataset.\n",
        "\n",
        "Display the first few words."
      ]
    },
    {
      "cell_type": "code",
      "execution_count": null,
      "id": "nX3r9FfubKdB",
      "metadata": {
        "id": "nX3r9FfubKdB"
      },
      "outputs": [],
      "source": [
        "from nltk.stem import PorterStemmer\n"
      ]
    },
    {
      "cell_type": "code",
      "source": [
        "# Initialize the Porter Stemmer\n",
        "stemmer = PorterStemmer()\n",
        "# Stem each word in the list\n",
        "print(words_wo_puncts_stopwords[0:5])\n",
        "stemmed_words = [stemmer.stem(word) for word in words_wo_puncts_stopwords]\n",
        "stemmed_words[0:5]\n"
      ],
      "metadata": {
        "id": "viXlo25jFbEI",
        "colab": {
          "base_uri": "https://localhost:8080/"
        },
        "outputId": "1e9dffbd-7c93-4256-c5af-f21348fce664"
      },
      "id": "viXlo25jFbEI",
      "execution_count": null,
      "outputs": [
        {
          "output_type": "stream",
          "name": "stdout",
          "text": [
            "['plot', 'two', 'teen', 'couples', 'go']\n"
          ]
        },
        {
          "output_type": "execute_result",
          "data": {
            "text/plain": [
              "['plot', 'two', 'teen', 'coupl', 'go']"
            ]
          },
          "metadata": {},
          "execution_count": 23
        }
      ]
    },
    {
      "cell_type": "markdown",
      "id": "QEVGhVGTbUMT",
      "metadata": {
        "id": "QEVGhVGTbUMT"
      },
      "source": [
        "### Exercise 2-5: Use the WordNetLemmatizer to lemmatize the words in the dataset.\n",
        "\n",
        "Display the first few words."
      ]
    },
    {
      "cell_type": "code",
      "execution_count": null,
      "id": "WZxMzKv4bMdl",
      "metadata": {
        "id": "WZxMzKv4bMdl",
        "colab": {
          "base_uri": "https://localhost:8080/"
        },
        "outputId": "15b3dbf3-3195-4555-d4de-a552ab4c11ee"
      },
      "outputs": [
        {
          "output_type": "execute_result",
          "data": {
            "text/plain": [
              "['plot', 'two', 'teen', 'couple', 'go']"
            ]
          },
          "metadata": {},
          "execution_count": 25
        }
      ],
      "source": [
        "from nltk import WordNetLemmatizer\n",
        "# Initialize the WordNetLemmatizer\n",
        "lemmatizer = WordNetLemmatizer()\n",
        "lemmatized_words = [lemmatizer.lemmatize(word) for word in words_wo_puncts_stopwords]\n",
        "lemmatized_words[0:5]"
      ]
    },
    {
      "cell_type": "markdown",
      "id": "uMhXtA3RbMJk",
      "metadata": {
        "id": "uMhXtA3RbMJk"
      },
      "source": []
    },
    {
      "cell_type": "markdown",
      "id": "LuWCQWX3bnsD",
      "metadata": {
        "id": "LuWCQWX3bnsD"
      },
      "source": [
        "### Exercise 2-6:\n",
        "a) How many unique words are there once stemming is applied? (show the that performs the computation and outputs the result)\n",
        "\n",
        "b) How many unique words are there once lemmatization is applied? (show the code that performs the computation and outputs the result)"
      ]
    },
    {
      "cell_type": "code",
      "execution_count": null,
      "id": "N4WAh6UEbqNq",
      "metadata": {
        "id": "N4WAh6UEbqNq"
      },
      "outputs": [],
      "source": [
        "# Calculate the number of unique stemmed words\n",
        "unique_stemmed_words = set(stemmed_words)\n",
        "num_unique_stemmed_words = len(unique_stemmed_words)"
      ]
    },
    {
      "cell_type": "code",
      "source": [
        "# Calculate the number of unique lemmatized words\n",
        "unique_lemmatized_words = set(lemmatized_words)\n",
        "num_unique_lemmatized_words = len(unique_lemmatized_words)"
      ],
      "metadata": {
        "id": "LcB82GrNOtB5"
      },
      "id": "LcB82GrNOtB5",
      "execution_count": null,
      "outputs": []
    },
    {
      "cell_type": "code",
      "source": [
        "print(\"Number of unique words once stemming is applied \",num_unique_stemmed_words)\n",
        "print(\"Number of unique words once lemmatization is applied \",num_unique_lemmatized_words)"
      ],
      "metadata": {
        "colab": {
          "base_uri": "https://localhost:8080/"
        },
        "id": "8stWgNd1Oy0O",
        "outputId": "2289457c-ff3b-4089-b9d2-820061220412"
      },
      "id": "8stWgNd1Oy0O",
      "execution_count": null,
      "outputs": [
        {
          "output_type": "stream",
          "name": "stdout",
          "text": [
            "Number of unique words once stemming is applied  26101\n",
            "Number of unique words once lemmatization is applied  35172\n"
          ]
        }
      ]
    },
    {
      "cell_type": "markdown",
      "id": "FQOoke3_bvbr",
      "metadata": {
        "id": "FQOoke3_bvbr"
      },
      "source": [
        "## Part 3. Tokenization"
      ]
    },
    {
      "cell_type": "markdown",
      "id": "o0HA5ds8HL6-",
      "metadata": {
        "id": "o0HA5ds8HL6-"
      },
      "source": [
        "### Exercise 3-1: Use the Penn Tree Bank tokenizer to tokenize the sentence below\n",
        "\n",
        "Print the tokens that the tokenizer produces."
      ]
    },
    {
      "cell_type": "code",
      "execution_count": null,
      "id": "204dbae3",
      "metadata": {
        "id": "204dbae3",
        "colab": {
          "base_uri": "https://localhost:8080/"
        },
        "outputId": "46a3c44c-7417-486c-e4ac-8acc53d91c45"
      },
      "outputs": [
        {
          "output_type": "stream",
          "name": "stdout",
          "text": [
            "['Please', 'pay', '$', '100.55', 'to', 'settle', 'your', 'bill.', 'Send', 'confirmation', 'to', 'confirm', '@', 'gmail.com', '.']\n"
          ]
        }
      ],
      "source": [
        "from nltk.tokenize import TreebankWordTokenizer\n",
        "s = 'Please pay $100.55 to settle your bill.  Send confirmation to confirm@gmail.com.'\n",
        "# Initialize the tokenizer\n",
        "tokenizer = TreebankWordTokenizer()\n",
        "# Tokenize the sentence\n",
        "tokens = tokenizer.tokenize(s)\n",
        "# Print the tokens\n",
        "print(tokens)"
      ]
    },
    {
      "cell_type": "markdown",
      "id": "Tu9xug2Gxr84",
      "metadata": {
        "id": "Tu9xug2Gxr84"
      },
      "source": [
        "## Part 4: Levenshtein Distance & Alignment\n",
        "\n",
        "Relevant nltk documentation: https://www.nltk.org/api/nltk.metrics.distance.html"
      ]
    },
    {
      "cell_type": "markdown",
      "id": "fBsXnDQ-yPPE",
      "metadata": {
        "id": "fBsXnDQ-yPPE"
      },
      "source": [
        "### Exercise 4-1: Use the nltk functions edit_distance to compute the Levenshtein edit-distance between the strings \"intention\" and \"execution\""
      ]
    },
    {
      "cell_type": "code",
      "execution_count": null,
      "id": "5aaSK4Ehylz7",
      "metadata": {
        "id": "5aaSK4Ehylz7",
        "colab": {
          "base_uri": "https://localhost:8080/"
        },
        "outputId": "d6c7f2cb-d572-4e40-afdc-d3cc5eca1290"
      },
      "outputs": [
        {
          "output_type": "stream",
          "name": "stdout",
          "text": [
            "Edit distance between 'intention' and 'execution' is: 5\n"
          ]
        }
      ],
      "source": [
        "from nltk.metrics.distance import edit_distance\n",
        "str1 = \"intention\"\n",
        "str2 = \"execution\"\n",
        "distance = nltk.edit_distance(str1, str2)\n",
        "print(\"Edit distance between '{}' and '{}' is: {}\".format(str1, str2, distance))"
      ]
    },
    {
      "cell_type": "markdown",
      "id": "NKWLhn1RzBGv",
      "metadata": {
        "id": "NKWLhn1RzBGv"
      },
      "source": [
        "### Exercise 4-2: Use the nltk function edit_distance_align to compute the minimum Levenshtein edit-distance based alignment mapping between the two strings \"intention\" and \"execution\""
      ]
    },
    {
      "cell_type": "code",
      "execution_count": null,
      "id": "Zc16veVuzBxM",
      "metadata": {
        "id": "Zc16veVuzBxM",
        "colab": {
          "base_uri": "https://localhost:8080/"
        },
        "outputId": "f574f83b-42d5-4a7b-8b84-e49238448582"
      },
      "outputs": [
        {
          "output_type": "stream",
          "name": "stdout",
          "text": [
            "Edit distance alignment between 'intention' and 'execution' is: [(0, 0), (1, 1), (2, 2), (3, 3), (4, 4), (5, 5), (6, 6), (7, 7), (8, 8), (9, 9)]\n"
          ]
        }
      ],
      "source": [
        "from nltk.metrics.distance import edit_distance_align\n",
        "distance_alignment = nltk.edit_distance_align(str1, str2,1)\n",
        "print(\"Edit distance alignment between '{}' and '{}' is: {}\".format(str1, str2, distance_alignment))"
      ]
    },
    {
      "cell_type": "code",
      "source": [],
      "metadata": {
        "id": "DKG1RSRMbPVt"
      },
      "id": "DKG1RSRMbPVt",
      "execution_count": null,
      "outputs": []
    }
  ],
  "metadata": {
    "colab": {
      "provenance": []
    },
    "kernelspec": {
      "display_name": "Python 3 (ipykernel)",
      "language": "python",
      "name": "python3"
    },
    "language_info": {
      "codemirror_mode": {
        "name": "ipython",
        "version": 3
      },
      "file_extension": ".py",
      "mimetype": "text/x-python",
      "name": "python",
      "nbconvert_exporter": "python",
      "pygments_lexer": "ipython3",
      "version": "3.10.6"
    }
  },
  "nbformat": 4,
  "nbformat_minor": 5
}